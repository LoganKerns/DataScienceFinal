{
 "cells": [
  {
   "cell_type": "code",
   "execution_count": 1,
   "id": "d773a718",
   "metadata": {},
   "outputs": [
    {
     "name": "stderr",
     "output_type": "stream",
     "text": [
      "C:\\ProgramData\\Anaconda3\\lib\\site-packages\\scipy\\__init__.py:155: UserWarning: A NumPy version >=1.18.5 and <1.25.0 is required for this version of SciPy (detected version 1.26.4\n",
      "  warnings.warn(f\"A NumPy version >={np_minversion} and <{np_maxversion}\"\n"
     ]
    }
   ],
   "source": [
    "import pandas as pd\n",
    "from sklearn.cluster import AgglomerativeClustering\n",
    "from sklearn.metrics import silhouette_score"
   ]
  },
  {
   "cell_type": "code",
   "execution_count": 3,
   "id": "2e73e2aa",
   "metadata": {
    "scrolled": true
   },
   "outputs": [],
   "source": [
    "df = pd.read_csv('Numeric_Social_Media_Usage_Data.csv')"
   ]
  },
  {
   "cell_type": "code",
   "execution_count": 16,
   "id": "cc8c07e6",
   "metadata": {},
   "outputs": [],
   "source": [
    "scores = {}\n",
    "clusters = len(df)\n",
    "for i in range(2, clusters):\n",
    "    agg = AgglomerativeClustering(n_clusters=i, affinity='euclidean', linkage='ward')\n",
    "    agg = agg.fit(df)\n",
    "    ss_avg = silhouette_score(df, agg.labels_)\n",
    "    scores[ss_avg] = i"
   ]
  },
  {
   "cell_type": "code",
   "execution_count": 13,
   "id": "89eb80b8",
   "metadata": {},
   "outputs": [
    {
     "data": {
      "text/plain": [
       "0.5902116733381131"
      ]
     },
     "execution_count": 13,
     "metadata": {},
     "output_type": "execute_result"
    }
   ],
   "source": [
    "max_score = max(scores.values())\n",
    "max_score"
   ]
  },
  {
   "cell_type": "code",
   "execution_count": 15,
   "id": "4e498611",
   "metadata": {},
   "outputs": [
    {
     "ename": "KeyError",
     "evalue": "0.5902116733381131",
     "output_type": "error",
     "traceback": [
      "\u001b[1;31m---------------------------------------------------------------------------\u001b[0m",
      "\u001b[1;31mKeyError\u001b[0m                                  Traceback (most recent call last)",
      "\u001b[1;32m~\\AppData\\Local\\Temp\\ipykernel_24148\\535113169.py\u001b[0m in \u001b[0;36m<module>\u001b[1;34m\u001b[0m\n\u001b[1;32m----> 1\u001b[1;33m \u001b[0moptimal_cluster\u001b[0m \u001b[1;33m=\u001b[0m \u001b[0mscores\u001b[0m\u001b[1;33m[\u001b[0m\u001b[0mmax_score\u001b[0m\u001b[1;33m]\u001b[0m\u001b[1;33m\u001b[0m\u001b[1;33m\u001b[0m\u001b[0m\n\u001b[0m\u001b[0;32m      2\u001b[0m \u001b[0moptimal_cluster\u001b[0m\u001b[1;33m\u001b[0m\u001b[1;33m\u001b[0m\u001b[0m\n",
      "\u001b[1;31mKeyError\u001b[0m: 0.5902116733381131"
     ]
    }
   ],
   "source": [
    "optimal_cluster = scores[max_score]\n",
    "optimal_cluster"
   ]
  },
  {
   "cell_type": "code",
   "execution_count": null,
   "id": "0149944f",
   "metadata": {},
   "outputs": [],
   "source": []
  }
 ],
 "metadata": {
  "kernelspec": {
   "display_name": "Python 3 (ipykernel)",
   "language": "python",
   "name": "python3"
  },
  "language_info": {
   "codemirror_mode": {
    "name": "ipython",
    "version": 3
   },
   "file_extension": ".py",
   "mimetype": "text/x-python",
   "name": "python",
   "nbconvert_exporter": "python",
   "pygments_lexer": "ipython3",
   "version": "3.9.13"
  }
 },
 "nbformat": 4,
 "nbformat_minor": 5
}
