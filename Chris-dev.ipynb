{
 "cells": [
  {
   "cell_type": "code",
   "execution_count": null,
   "id": "8f03ad01",
   "metadata": {},
   "outputs": [],
   "source": [
    "#"
   ]
  },
  {
   "cell_type": "code",
   "execution_count": 1,
   "id": "8c2b3fa0",
   "metadata": {},
   "outputs": [
    {
     "name": "stderr",
     "output_type": "stream",
     "text": [
      "C:\\ProgramData\\Anaconda3\\lib\\site-packages\\scipy\\__init__.py:155: UserWarning: A NumPy version >=1.18.5 and <1.25.0 is required for this version of SciPy (detected version 1.26.4\n",
      "  warnings.warn(f\"A NumPy version >={np_minversion} and <{np_maxversion}\"\n"
     ]
    }
   ],
   "source": [
    "import pandas as pd \n",
    "import numpy as np \n",
    "from sklearn.cluster import DBSCAN\n",
    "from sklearn.metrics import silhouette_score"
   ]
  },
  {
   "cell_type": "code",
   "execution_count": 2,
   "id": "da4dadfe",
   "metadata": {},
   "outputs": [],
   "source": [
    "df = pd.read_csv('Updated_Social_Media_Usage_Data.csv')"
   ]
  },
  {
   "cell_type": "code",
   "execution_count": 3,
   "id": "f36ea866",
   "metadata": {},
   "outputs": [],
   "source": [
    "# Wrangling Dataset \n",
    "# Changing Columns from string data to numerical data \n",
    "\n",
    "gender_mapping = {'male': 0, 'female': 1, 'non-binary': 2}\n",
    "df['gender'] = df['gender'].replace(gender_mapping)\n",
    "\n",
    "platform_mapping = {'Facebook': 0, 'Instagram': 1, 'Twitter': 2, 'Snapchat': 3, 'TikTok': 4}\n",
    "df['preferred_platform'] = df['preferred_platform'].replace(platform_mapping)\n",
    "\n",
    "interests_mapping = {'Sports': 0, 'Technology': 1, 'Food': 2, 'Music': 3, 'Art': 4, 'Fashion': 5, 'Travel': 6}\n",
    "df['interests'] = df['interests'].replace(interests_mapping)\n",
    "\n",
    "demographics_mapping = {'Suburban': 0, 'Urban': 1, 'Rural': 2}\n",
    "df['demographics'] = df['demographics'].replace(demographics_mapping)"
   ]
  },
  {
   "cell_type": "code",
   "execution_count": 4,
   "id": "d6c7b35d",
   "metadata": {},
   "outputs": [],
   "source": [
    "file_path = 'Numeric_Social_Media_Usage_Data.csv'\n",
    "df.to_csv(file_path, index=False)"
   ]
  },
  {
   "cell_type": "code",
   "execution_count": 5,
   "id": "ebed81d3",
   "metadata": {},
   "outputs": [],
   "source": [
    "def tuneParameters(df):\n",
    "    models = {}\n",
    "    for eps in range(1, 100):\n",
    "        for samp in range(2, 20):\n",
    "            dbscan = DBSCAN(eps=eps, min_samples=samp)\n",
    "            dbscan.fit(df)\n",
    "            predictions = dbscan.fit_predict(df)\n",
    "            if len(set(predictions)) >= 3:\n",
    "                sScore = silhouette_score(df, predictions)\n",
    "                models[sScore] = [eps, samp]\n",
    "    return models"
   ]
  },
  {
   "cell_type": "code",
   "execution_count": 7,
   "id": "b2c52665",
   "metadata": {},
   "outputs": [],
   "source": [
    "model_params = tuneParameters(df)"
   ]
  },
  {
   "cell_type": "code",
   "execution_count": 8,
   "id": "51fcd3bd",
   "metadata": {},
   "outputs": [
    {
     "data": {
      "text/plain": [
       "0.4845170546239227"
      ]
     },
     "execution_count": 8,
     "metadata": {},
     "output_type": "execute_result"
    }
   ],
   "source": [
    "max(model_params)"
   ]
  },
  {
   "cell_type": "code",
   "execution_count": 9,
   "id": "f55575d0",
   "metadata": {},
   "outputs": [
    {
     "data": {
      "text/plain": [
       "[56, 2]"
      ]
     },
     "execution_count": 9,
     "metadata": {},
     "output_type": "execute_result"
    }
   ],
   "source": [
    "model_params[0.4845170546239227]\n",
    "# DBSCAN with highest silhouette score uses 56 episodes and 2 min_samples"
   ]
  },
  {
   "cell_type": "code",
   "execution_count": null,
   "id": "87a02b3c",
   "metadata": {},
   "outputs": [],
   "source": []
  }
 ],
 "metadata": {
  "kernelspec": {
   "display_name": "Python 3 (ipykernel)",
   "language": "python",
   "name": "python3"
  },
  "language_info": {
   "codemirror_mode": {
    "name": "ipython",
    "version": 3
   },
   "file_extension": ".py",
   "mimetype": "text/x-python",
   "name": "python",
   "nbconvert_exporter": "python",
   "pygments_lexer": "ipython3",
   "version": "3.9.13"
  }
 },
 "nbformat": 4,
 "nbformat_minor": 5
}
