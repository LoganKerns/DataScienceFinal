{
 "cells": [
  {
   "cell_type": "code",
   "execution_count": null,
   "id": "8f03ad01",
   "metadata": {},
   "outputs": [],
   "source": [
    "#"
   ]
  },
  {
   "cell_type": "code",
   "execution_count": 1,
   "id": "8c2b3fa0",
   "metadata": {},
   "outputs": [],
   "source": [
    "import pandas as pd \n",
    "import numpy as np "
   ]
  },
  {
   "cell_type": "code",
   "execution_count": 2,
   "id": "da4dadfe",
   "metadata": {},
   "outputs": [],
   "source": [
    "df = pd.read_csv('Updated_Social_Media_Usage_Data.csv')"
   ]
  },
  {
   "cell_type": "code",
   "execution_count": 3,
   "id": "f36ea866",
   "metadata": {},
   "outputs": [],
   "source": [
    "# Wrangling Dataset \n",
    "# Changing Columns from string data to numerical data \n",
    "\n",
    "gender_mapping = {'male': 0, 'female': 1, 'non-binary': 2}\n",
    "df['gender'] = df['gender'].replace(gender_mapping)\n",
    "\n",
    "platform_mapping = {'Facebook': 0, 'Instagram': 1, 'Twitter': 2, 'Snapchat': 3, 'TikTok': 4}\n",
    "df['preferred_platform'] = df['preferred_platform'].replace(platform_mapping)\n",
    "\n",
    "interests_mapping = {'Sports': 0, 'Technology': 1, 'Food': 2, 'Music': 3, 'Art': 4, 'Fashion': 5, 'Travel': 6}\n",
    "df['interests'] = df['interests'].replace(interests_mapping)\n",
    "\n",
    "demographics_mapping = {'Suburban': 0, 'Urban': 1, 'Rural': 2}\n",
    "df['demographics'] = df['demographics'].replace(demographics_mapping)"
   ]
  },
  {
   "cell_type": "code",
   "execution_count": 5,
   "id": "d6c7b35d",
   "metadata": {},
   "outputs": [],
   "source": [
    "file_path = 'Numeric_Social_Media_Usage_Data'\n",
    "df.to_csv(file_path, index=False)"
   ]
  },
  {
   "cell_type": "code",
   "execution_count": null,
   "id": "ebed81d3",
   "metadata": {},
   "outputs": [],
   "source": []
  }
 ],
 "metadata": {
  "kernelspec": {
   "display_name": "Python 3 (ipykernel)",
   "language": "python",
   "name": "python3"
  },
  "language_info": {
   "codemirror_mode": {
    "name": "ipython",
    "version": 3
   },
   "file_extension": ".py",
   "mimetype": "text/x-python",
   "name": "python",
   "nbconvert_exporter": "python",
   "pygments_lexer": "ipython3",
   "version": "3.11.5"
  }
 },
 "nbformat": 4,
 "nbformat_minor": 5
}
