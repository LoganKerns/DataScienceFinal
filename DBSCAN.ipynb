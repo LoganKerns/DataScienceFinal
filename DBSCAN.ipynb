{
 "cells": [
  {
   "cell_type": "code",
   "execution_count": 1,
   "id": "13a429ca",
   "metadata": {},
   "outputs": [
    {
     "name": "stderr",
     "output_type": "stream",
     "text": [
      "C:\\ProgramData\\Anaconda3\\lib\\site-packages\\scipy\\__init__.py:155: UserWarning: A NumPy version >=1.18.5 and <1.25.0 is required for this version of SciPy (detected version 1.26.4\n",
      "  warnings.warn(f\"A NumPy version >={np_minversion} and <{np_maxversion}\"\n"
     ]
    }
   ],
   "source": [
    "import pandas as pd \n",
    "import numpy as np \n",
    "from sklearn.cluster import DBSCAN\n",
    "from sklearn.metrics import silhouette_score"
   ]
  },
  {
   "cell_type": "code",
   "execution_count": 2,
   "id": "93a739de",
   "metadata": {},
   "outputs": [],
   "source": [
    "def tuneParameters(df):\n",
    "    models = {}\n",
    "    for eps in range(1, 100):\n",
    "        for samp in range(2, 20):\n",
    "            dbscan = DBSCAN(eps=eps, min_samples=samp)\n",
    "            dbscan.fit(df)\n",
    "            predictions = dbscan.fit_predict(df)\n",
    "            if len(set(predictions)) >= 3:\n",
    "                sScore = silhouette_score(df, predictions)\n",
    "                models[sScore] = [eps, samp]\n",
    "    return models"
   ]
  },
  {
   "cell_type": "code",
   "execution_count": 4,
   "id": "e9e38f7d",
   "metadata": {},
   "outputs": [],
   "source": [
    "df = pd.read_csv('Numeric_Social_Media_Usage_Data.csv')"
   ]
  },
  {
   "cell_type": "code",
   "execution_count": 5,
   "id": "5ea472dc",
   "metadata": {},
   "outputs": [],
   "source": [
    "model_params = tuneParameters(df)"
   ]
  },
  {
   "cell_type": "code",
   "execution_count": null,
   "id": "f9d41985",
   "metadata": {},
   "outputs": [],
   "source": [
    "max_score = max(model_params)"
   ]
  }
 ],
 "metadata": {
  "kernelspec": {
   "display_name": "Python 3 (ipykernel)",
   "language": "python",
   "name": "python3"
  },
  "language_info": {
   "codemirror_mode": {
    "name": "ipython",
    "version": 3
   },
   "file_extension": ".py",
   "mimetype": "text/x-python",
   "name": "python",
   "nbconvert_exporter": "python",
   "pygments_lexer": "ipython3",
   "version": "3.9.13"
  }
 },
 "nbformat": 4,
 "nbformat_minor": 5
}
